{
  "nbformat": 4,
  "nbformat_minor": 0,
  "metadata": {
    "colab": {
      "name": "TnT_Lab_CSE_2.ipynb",
      "provenance": [],
      "authorship_tag": "ABX9TyO8WToNlWuFcad+ALm6dQyM"
    },
    "kernelspec": {
      "name": "python3",
      "display_name": "Python 3"
    }
  },
  "cells": [
    {
      "cell_type": "code",
      "metadata": {
        "id": "zHRs8-5gM9LV",
        "colab": {
          "base_uri": "https://localhost:8080/"
        },
        "outputId": "7486692f-658c-4243-adf8-02643e5a50ad"
      },
      "source": [
        "\"\"\"Do operator overriding in Python for addition, substraction, multiplication, division, less than \n",
        "and greater than.\"\"\"\n",
        "import math\n",
        " \n",
        "class Circle:\n",
        " \n",
        "    def __init__(self, radius):\n",
        "        self.radius = radius\n",
        " \n",
        "    def get_result(self):\n",
        "        return self.radius\n",
        " \n",
        "    def area(self):\n",
        "        return math.pi * self.radius ** 2\n",
        " \n",
        "    def __add__(self, another_circle):\n",
        "        return Circle(self.radius + another_circle.radius)\n",
        " \n",
        "    def __sub__(self, another_circle):\n",
        "        return Circle(self.radius - another_circle.radius)\n",
        " \n",
        "    def __mul__(self, another_circle):\n",
        "        return Circle(self.radius * another_circle.radius)\n",
        " \n",
        "    def __gt__(self, another_circle):\n",
        "        return Circle(self.radius > another_circle.radius)\n",
        " \n",
        "    def __lt__(self, another_circle):\n",
        "        return Circle(self.radius < another_circle.radius)\n",
        " \n",
        "    def __ge__(self, another_circle):\n",
        "        return Circle(self.radius >= another_circle.radius)\n",
        " \n",
        "    def __le__(self, another_circle):\n",
        "        return Circle(self.radius <= another_circle.radius)\n",
        " \n",
        "    def __eq__(self, another_circle):\n",
        "        return Circle(self.radius == another_circle.radius)\n",
        " \n",
        "    def __ne__(self, another_circle):\n",
        "        return Circle(self.radius != another_circle.radius)\n",
        " \n",
        " \n",
        "c1 = Circle(10)\n",
        "print(c1.get_result())\n",
        "print(c1.area())\n",
        " \n",
        "c2 = Circle(15)\n",
        "print(c2.get_result())\n",
        "print(c1.area())\n",
        " \n",
        "c3 = c1 + c2\n",
        "print(c3.get_result())\n",
        " \n",
        "c3 = c2 - c1\n",
        "print(c3.get_result())\n",
        " \n",
        "c4 = c1 * c2\n",
        "print(c4.get_result())\n",
        " \n",
        "c5 = c1 < c2\n",
        "print(c5.get_result())\n",
        " \n",
        "c5 = c2 < c1\n",
        "print(c5.get_result())"
      ],
      "execution_count": 9,
      "outputs": [
        {
          "output_type": "stream",
          "text": [
            "10\n",
            "314.1592653589793\n",
            "15\n",
            "314.1592653589793\n",
            "25\n",
            "5\n",
            "150\n",
            "True\n",
            "False\n"
          ],
          "name": "stdout"
        }
      ]
    },
    {
      "cell_type": "code",
      "metadata": {
        "id": "FojL-AMi3P6T",
        "colab": {
          "base_uri": "https://localhost:8080/"
        },
        "outputId": "725fe836-5c37-4a51-d40c-6f39007e7473"
      },
      "source": [
        "\"\"\"Exhibit single, multiple, multilevel,hierarchical and hybrid inheritence in Python.\"\"\"\n",
        "#SINGLE INHERITANCE\n",
        "class Animal:  \n",
        "    def speak(self):  \n",
        "        print(\"Animal Speaking\")   \n",
        "class Dog(Animal):  \n",
        "    def bark(self):  \n",
        "        print(\"dog barking\")  \n",
        "d = Dog()  \n",
        "d.bark()  \n",
        "d.speak()"
      ],
      "execution_count": 10,
      "outputs": [
        {
          "output_type": "stream",
          "text": [
            "dog barking\n",
            "Animal Speaking\n"
          ],
          "name": "stdout"
        }
      ]
    },
    {
      "cell_type": "code",
      "metadata": {
        "colab": {
          "base_uri": "https://localhost:8080/"
        },
        "id": "eRQPMRegISPb",
        "outputId": "c45672c5-77f0-4d2e-af96-8b8c0afd7cfe"
      },
      "source": [
        "#MULTILEVEL INHERITANCE\n",
        "class Animal:  \n",
        "    def speak(self):  \n",
        "        print(\"Animal Speaking\")  \n",
        "class Dog(Animal):  \n",
        "    def bark(self):  \n",
        "        print(\"dog barking\")  \n",
        "class DogChild(Dog):  \n",
        "    def eat(self):  \n",
        "        print(\"Eating bread...\")  \n",
        "d = DogChild()  \n",
        "d.bark()  \n",
        "d.speak()  \n",
        "d.eat()"
      ],
      "execution_count": 11,
      "outputs": [
        {
          "output_type": "stream",
          "text": [
            "dog barking\n",
            "Animal Speaking\n",
            "Eating bread...\n"
          ],
          "name": "stdout"
        }
      ]
    },
    {
      "cell_type": "code",
      "metadata": {
        "colab": {
          "base_uri": "https://localhost:8080/"
        },
        "id": "eBjAf7wvIhFb",
        "outputId": "7ceab727-d9d6-4bbf-cdf2-c79e3df81f47"
      },
      "source": [
        "#MULTIPLE INHERITANCE\n",
        "class Calculation1:  \n",
        "    def Summation(self,a,b):  \n",
        "        return a+b  \n",
        "class Calculation2:  \n",
        "    def Multiplication(self,a,b):  \n",
        "        return a*b  \n",
        "class Derived(Calculation1,Calculation2):  \n",
        "    def Divide(self,a,b):  \n",
        "        return a/b  \n",
        "d = Derived()  \n",
        "print(d.Summation(10,20))  \n",
        "print(d.Multiplication(10,20))  \n",
        "print(d.Divide(10,20))"
      ],
      "execution_count": 12,
      "outputs": [
        {
          "output_type": "stream",
          "text": [
            "30\n",
            "200\n",
            "0.5\n"
          ],
          "name": "stdout"
        }
      ]
    },
    {
      "cell_type": "code",
      "metadata": {
        "colab": {
          "base_uri": "https://localhost:8080/"
        },
        "id": "qCOKvoXIItWU",
        "outputId": "98678858-50ec-43cd-a8b3-9e6b7e0f93ef"
      },
      "source": [
        "#HIERARCHIAL INHERITANCE\n",
        "class Animal:  \n",
        "    def speak(self):  \n",
        "        print(\"Animal Speaking\")  \n",
        "class Dog(Animal):  \n",
        "    def bark(self):  \n",
        "        print(\"Barking!\")  \n",
        "class Cat(Animal):  \n",
        "    def sound(self):  \n",
        "        print(\"Meow!!\")  \n",
        "d = Dog()  \n",
        "d.bark()  \n",
        "d.speak()  \n",
        "\n",
        "c = Cat()\n",
        "c.sound()\n",
        "c.speak()"
      ],
      "execution_count": 13,
      "outputs": [
        {
          "output_type": "stream",
          "text": [
            "Barking!\n",
            "Animal Speaking\n",
            "Meow!!\n",
            "Animal Speaking\n"
          ],
          "name": "stdout"
        }
      ]
    },
    {
      "cell_type": "code",
      "metadata": {
        "colab": {
          "base_uri": "https://localhost:8080/"
        },
        "id": "emWh9Tal3Sj3",
        "outputId": "0c2fd03e-63e5-4dce-d9b4-476f67476f4b"
      },
      "source": [
        "\"\"\"Python Program to Display the multiplication table.\"\"\"\n",
        "def mul(x):\n",
        "  #base case\n",
        "  if x==0:\n",
        "    return\n",
        "  r=1\n",
        "  r=r*7*x\n",
        "  print(x,\"* 7 =\",r)\n",
        "\n",
        "  return mul(x-1)\n",
        "\n",
        "mul(10)"
      ],
      "execution_count": 14,
      "outputs": [
        {
          "output_type": "stream",
          "text": [
            "10 * 7 = 70\n",
            "9 * 7 = 63\n",
            "8 * 7 = 56\n",
            "7 * 7 = 49\n",
            "6 * 7 = 42\n",
            "5 * 7 = 35\n",
            "4 * 7 = 28\n",
            "3 * 7 = 21\n",
            "2 * 7 = 14\n",
            "1 * 7 = 7\n"
          ],
          "name": "stdout"
        }
      ]
    },
    {
      "cell_type": "code",
      "metadata": {
        "colab": {
          "base_uri": "https://localhost:8080/"
        },
        "id": "zzhwcOHL3TJw",
        "outputId": "b19adad9-879e-4bc9-bbb9-2dfd15620813"
      },
      "source": [
        "\"\"\"Write a Python program to check leap year.\"\"\"\n",
        "\n",
        "year=int(input(\"Enter the year to check:\"))\n",
        "\n",
        "if year%4==0:\n",
        "  print(f\"{year} is a leap year.\")\n",
        "else:\n",
        "  print(f\"{year} is not a leap year.\")"
      ],
      "execution_count": 15,
      "outputs": [
        {
          "output_type": "stream",
          "text": [
            "Enter the year to check:2016\n",
            "2016 is a leap year.\n"
          ],
          "name": "stdout"
        }
      ]
    },
    {
      "cell_type": "code",
      "metadata": {
        "id": "PX2LIoWH3TtH",
        "colab": {
          "base_uri": "https://localhost:8080/"
        },
        "outputId": "2057e9ad-cb20-47cf-f5b2-8f9b593620ef"
      },
      "source": [
        "\"\"\"Write a Python program to count the number of each vowels.\"\"\"\n",
        "def vowel_count(string):\n",
        "  vowels = ['a', 'e', 'i', 'o', 'u']\n",
        "  return len([i for i in string if i in vowels])\n",
        "\n",
        "vowel_count(\"An apple a day keeps the doctor away\")"
      ],
      "execution_count": 16,
      "outputs": [
        {
          "output_type": "execute_result",
          "data": {
            "text/plain": [
              "11"
            ]
          },
          "metadata": {
            "tags": []
          },
          "execution_count": 16
        }
      ]
    },
    {
      "cell_type": "code",
      "metadata": {
        "colab": {
          "base_uri": "https://localhost:8080/"
        },
        "id": "FOLo0K5J3qm_",
        "outputId": "e5e9bc30-24a5-453e-f77f-6321e185f867"
      },
      "source": [
        "\"\"\"Write a Python program to multiply two matrices.\"\"\"\n",
        "\n",
        "import numpy as np\n",
        "\n",
        "A = [[12, 7, 3], \n",
        "    [4, 5, 6], \n",
        "    [7, 8, 9]] \n",
        "  \n",
        "\n",
        "B = [[5, 8, 1, 2], \n",
        "    [6, 7, 3, 0], \n",
        "    [4, 5, 9, 1]] \n",
        "  \n",
        "  \n",
        "result= [[0,0,0,0], \n",
        "        [0,0,0,0], \n",
        "        [0,0,0,0]] \n",
        "\n",
        "result=np.dot(A,B)\n",
        "\n",
        "print(result)"
      ],
      "execution_count": 17,
      "outputs": [
        {
          "output_type": "stream",
          "text": [
            "[[114 160  60  27]\n",
            " [ 74  97  73  14]\n",
            " [119 157 112  23]]\n"
          ],
          "name": "stdout"
        }
      ]
    }
  ]
}